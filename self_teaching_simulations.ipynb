{
 "cells": [
  {
   "cell_type": "code",
   "execution_count": 334,
   "metadata": {},
   "outputs": [],
   "source": [
    "%reload_ext autoreload\n",
    "%autoreload 2\n",
    "from models.self_teacher import SelfTeacher\n",
    "from models.active_learner import ActiveLearner\n",
    "from models.teacher import Teacher\n",
    "\n",
    "import numpy as np\n",
    "import matplotlib.pyplot as plt\n",
    "import seaborn as sns"
   ]
  },
  {
   "cell_type": "code",
   "execution_count": 351,
   "metadata": {},
   "outputs": [],
   "source": [
    "at = ActiveLearner(3, \"boundary\")\n",
    "st = SelfTeacher(3, \"boundary\")\n",
    "t = Teacher(3, \"boundary\")"
   ]
  },
  {
   "cell_type": "code",
   "execution_count": 348,
   "metadata": {},
   "outputs": [
    {
     "data": {
      "text/plain": [
       "(4, 3, 2)"
      ]
     },
     "execution_count": 348,
     "metadata": {},
     "output_type": "execute_result"
    }
   ],
   "source": [
    "t.learner_prior.shape"
   ]
  },
  {
   "cell_type": "code",
   "execution_count": 350,
   "metadata": {},
   "outputs": [
    {
     "data": {
      "text/plain": [
       "4"
      ]
     },
     "execution_count": 350,
     "metadata": {},
     "output_type": "execute_result"
    }
   ],
   "source": [
    "a = np.array([1, 1, 1, 1])\n"
   ]
  },
  {
   "cell_type": "code",
   "execution_count": 342,
   "metadata": {},
   "outputs": [
    {
     "name": "stdout",
     "output_type": "stream",
     "text": [
      "[[[ 0.          1.        ]\n",
      "  [ 0.          0.5       ]\n",
      "  [ 0.          0.33333333]]\n",
      "\n",
      " [[ 0.33333333  0.        ]\n",
      "  [ 0.          0.5       ]\n",
      "  [ 0.          0.33333333]]\n",
      "\n",
      " [[ 0.33333333  0.        ]\n",
      "  [ 0.5         0.        ]\n",
      "  [ 0.          0.33333333]]\n",
      "\n",
      " [[ 0.33333333  0.        ]\n",
      "  [ 0.5         0.        ]\n",
      "  [ 1.          0.        ]]]\n",
      "[[[ 0.32467532  0.32467532]\n",
      "  [ 0.35064935  0.35064935]\n",
      "  [ 0.32467532  0.32467532]]\n",
      "\n",
      " [[ 0.32467532  0.32467532]\n",
      "  [ 0.35064935  0.35064935]\n",
      "  [ 0.32467532  0.32467532]]\n",
      "\n",
      " [[ 0.32467532  0.32467532]\n",
      "  [ 0.35064935  0.35064935]\n",
      "  [ 0.32467532  0.32467532]]\n",
      "\n",
      " [[ 0.32467532  0.32467532]\n",
      "  [ 0.35064935  0.35064935]\n",
      "  [ 0.32467532  0.32467532]]]\n",
      "[[[ 0.          1.        ]\n",
      "  [ 0.          0.5       ]\n",
      "  [ 0.          0.33333333]]\n",
      "\n",
      " [[ 0.33333333  0.        ]\n",
      "  [ 0.          0.5       ]\n",
      "  [ 0.          0.33333333]]\n",
      "\n",
      " [[ 0.33333333  0.        ]\n",
      "  [ 0.5         0.        ]\n",
      "  [ 0.          0.33333333]]\n",
      "\n",
      " [[ 0.33333333  0.        ]\n",
      "  [ 0.5         0.        ]\n",
      "  [ 1.          0.        ]]]\n",
      "[[[ 0.32467532  0.32467532]\n",
      "  [ 0.35064935  0.35064935]\n",
      "  [ 0.32467532  0.32467532]]\n",
      "\n",
      " [[ 0.32467532  0.32467532]\n",
      "  [ 0.35064935  0.35064935]\n",
      "  [ 0.32467532  0.32467532]]\n",
      "\n",
      " [[ 0.32467532  0.32467532]\n",
      "  [ 0.35064935  0.35064935]\n",
      "  [ 0.32467532  0.32467532]]\n",
      "\n",
      " [[ 0.32467532  0.32467532]\n",
      "  [ 0.35064935  0.35064935]\n",
      "  [ 0.32467532  0.32467532]]]\n"
     ]
    }
   ],
   "source": [
    "st.update_learner_posterior()\n",
    "print(st.get_learner_posterior())\n",
    "st.update_self_teaching_posterior()\n",
    "print(st.get_self_teaching_posterior())"
   ]
  },
  {
   "cell_type": "code",
   "execution_count": 292,
   "metadata": {},
   "outputs": [
    {
     "data": {
      "text/plain": [
       "0.35064935064935066"
      ]
     },
     "execution_count": 292,
     "metadata": {},
     "output_type": "execute_result"
    }
   ],
   "source": [
    "27/77"
   ]
  },
  {
   "cell_type": "code",
   "execution_count": 233,
   "metadata": {},
   "outputs": [
    {
     "data": {
      "text/plain": [
       "array([[[ 0.        ,  1.        ],\n",
       "        [ 0.        ,  0.5       ],\n",
       "        [ 0.        ,  0.33333333]],\n",
       "\n",
       "       [[ 0.33333333,  0.        ],\n",
       "        [ 0.        ,  0.5       ],\n",
       "        [ 0.        ,  0.33333333]],\n",
       "\n",
       "       [[ 0.33333333,  0.        ],\n",
       "        [ 0.5       ,  0.        ],\n",
       "        [ 0.        ,  0.33333333]],\n",
       "\n",
       "       [[ 0.33333333,  0.        ],\n",
       "        [ 0.5       ,  0.        ],\n",
       "        [ 1.        ,  0.        ]]])"
      ]
     },
     "execution_count": 233,
     "metadata": {},
     "output_type": "execute_result"
    }
   ],
   "source": [
    "t.update_learner_posterior()\n",
    "t.get_learner_posterior()"
   ]
  },
  {
   "cell_type": "code",
   "execution_count": 286,
   "metadata": {},
   "outputs": [
    {
     "name": "stdout",
     "output_type": "stream",
     "text": [
      "[[ 1.09861229 -0.        ]\n",
      " [ 0.69314718  0.69314718]\n",
      " [-0.          1.09861229]]\n",
      "[[ 1.38629436  1.38629436]\n",
      " [ 1.38629436  1.38629436]\n",
      " [ 1.38629436  1.38629436]]\n",
      "[[ 0.28768207  1.38629436]\n",
      " [ 0.69314718  0.69314718]\n",
      " [ 1.38629436  0.28768207]]\n",
      "[ 0.56233514  0.69314718  0.56233514]\n",
      "[[ 0.21576155  0.34657359]\n",
      " [ 0.34657359  0.34657359]\n",
      " [ 0.34657359  0.21576155]]\n"
     ]
    },
    {
     "name": "stderr",
     "output_type": "stream",
     "text": [
      "//anaconda/envs/py36/lib/python3.6/site-packages/ipykernel/__main__.py:2: RuntimeWarning: divide by zero encountered in log\n",
      "  from ipykernel import kernelapp as app\n",
      "//anaconda/envs/py36/lib/python3.6/site-packages/ipykernel/__main__.py:2: RuntimeWarning: invalid value encountered in multiply\n",
      "  from ipykernel import kernelapp as app\n"
     ]
    }
   ],
   "source": [
    "posterior = t.get_learner_posterior()\n",
    "entropy_posterior = -np.nansum(np.log(posterior) * posterior, axis=0)\n",
    "print(entropy_posterior)\n",
    "entropy_prior = -np.array([[np.log(1/4), np.log(1/4)], \n",
    "                          [np.log(1/4), np.log(1/4)], \n",
    "                          [np.log(1/4), np.log(1/4)]])\n",
    "print(entropy_prior)\n",
    "entropy_diff = entropy_prior - entropy_posterior\n",
    "print(entropy_diff)\n",
    "ys = np.array([[3/4, 1/4], [1/2, 1/2], [1/4, 3/4]])\n",
    "print(np.sum(ys * entropy_diff, axis=1))\n",
    "print(ys * entropy_diff)"
   ]
  },
  {
   "cell_type": "code",
   "execution_count": 256,
   "metadata": {},
   "outputs": [
    {
     "data": {
      "text/plain": [
       "-1.3862943611198906"
      ]
     },
     "execution_count": 256,
     "metadata": {},
     "output_type": "execute_result"
    }
   ],
   "source": [
    "# self teacher prior\n",
    "(1/4 * np.log(1/4)) * 4"
   ]
  },
  {
   "cell_type": "code",
   "execution_count": 258,
   "metadata": {},
   "outputs": [
    {
     "data": {
      "text/plain": [
       "-0.69314718055994529"
      ]
     },
     "execution_count": 258,
     "metadata": {},
     "output_type": "execute_result"
    }
   ],
   "source": [
    "# self teacher likelihood\n",
    "np.log(1/4) - np.log(1/2)"
   ]
  },
  {
   "cell_type": "code",
   "execution_count": 259,
   "metadata": {},
   "outputs": [
    {
     "data": {
      "text/plain": [
       "<models.active_learner.ActiveLearner at 0x11c150e10>"
      ]
     },
     "execution_count": 259,
     "metadata": {},
     "output_type": "execute_result"
    }
   ],
   "source": [
    "at"
   ]
  },
  {
   "cell_type": "code",
   "execution_count": 293,
   "metadata": {},
   "outputs": [],
   "source": [
    "foo = [at.expected_information_gain(i) for i in range(3)] "
   ]
  },
  {
   "cell_type": "code",
   "execution_count": 294,
   "metadata": {},
   "outputs": [
    {
     "data": {
      "text/plain": [
       "array([ 0.30934632,  0.38130736,  0.30934632])"
      ]
     },
     "execution_count": 294,
     "metadata": {},
     "output_type": "execute_result"
    }
   ],
   "source": [
    "foo / np.sum(foo)"
   ]
  },
  {
   "cell_type": "code",
   "execution_count": null,
   "metadata": {},
   "outputs": [],
   "source": []
  }
 ],
 "metadata": {
  "kernelspec": {
   "display_name": "Python [conda env:py36]",
   "language": "python",
   "name": "conda-env-py36-py"
  },
  "language_info": {
   "codemirror_mode": {
    "name": "ipython",
    "version": 3
   },
   "file_extension": ".py",
   "mimetype": "text/x-python",
   "name": "python",
   "nbconvert_exporter": "python",
   "pygments_lexer": "ipython3",
   "version": "3.6.0"
  }
 },
 "nbformat": 4,
 "nbformat_minor": 2
}
