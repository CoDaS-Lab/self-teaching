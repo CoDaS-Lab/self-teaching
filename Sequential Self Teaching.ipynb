{
 "cells": [
  {
   "cell_type": "markdown",
   "metadata": {
    "deletable": true,
    "editable": true
   },
   "source": [
    "# Sequential Self Teaching Worked Example"
   ]
  },
  {
   "cell_type": "markdown",
   "metadata": {
    "deletable": true,
    "editable": true
   },
   "source": [
    "## Set up\n",
    "\n",
    "Three features $(x1, x_2, x3)$ and two labels $(y_0, y_1)$\n",
    "\n",
    "The hypothesis space is given by:\n",
    "\n",
    "$$\n",
    "h_1 = [1, 1, 1] \\\\\n",
    "h_2 = [0, 1, 1] \\\\\n",
    "h_3 = [0, 0, 1] \\\\\n",
    "h_4 = [0, 0, 0]\n",
    "$$\n",
    "\n",
    "The learner's prior over hypotheses is uniform, $p_L(h') = 1/4 \\quad \\forall h' \\in h$"
   ]
  },
  {
   "cell_type": "code",
   "execution_count": 1,
   "metadata": {
    "collapsed": true,
    "deletable": true,
    "editable": true
   },
   "outputs": [],
   "source": [
    "# TODO: code to initialize hypothesis space and priors"
   ]
  },
  {
   "cell_type": "markdown",
   "metadata": {
    "deletable": true,
    "editable": true
   },
   "source": [
    "The likelihood $p(y|x, h)$"
   ]
  },
  {
   "cell_type": "code",
   "execution_count": 2,
   "metadata": {
    "collapsed": true,
    "deletable": true,
    "editable": true
   },
   "outputs": [],
   "source": [
    "# TODO: code to calculate likelihood"
   ]
  },
  {
   "cell_type": "markdown",
   "metadata": {
    "deletable": true,
    "editable": true
   },
   "source": [
    "Thus, the learner's posterior $p_L(h|x, y) \\propto p(y|x, h)p_T(x|h)p_L(h)$ is..."
   ]
  },
  {
   "cell_type": "code",
   "execution_count": 3,
   "metadata": {
    "collapsed": true,
    "deletable": true,
    "editable": true
   },
   "outputs": [],
   "source": [
    "# TODO: code to calculate "
   ]
  },
  {
   "cell_type": "markdown",
   "metadata": {
    "deletable": true,
    "editable": true
   },
   "source": [
    "Using the learner's posterior, we can calculate the probability that the self-teacher will teach each feature, i.e. $p_T(x|h)$, by the following equations:\n",
    "\n",
    "$$\n",
    "p_T(x,y|h') \\propto p_L(h'|x,y)p_T(x,y), \n",
    "$$\n",
    "\n",
    "where $p_T(x,y)$ is usually a uniform prior over $x,y$;"
   ]
  },
  {
   "cell_type": "code",
   "execution_count": 4,
   "metadata": {
    "collapsed": true
   },
   "outputs": [],
   "source": [
    "# TODO: code to calculate"
   ]
  },
  {
   "cell_type": "markdown",
   "metadata": {},
   "source": [
    "$$\n",
    "\\begin{aligned}\n",
    "p_T(x,y,h'|h) &= p_T(x,y|h')p_a(h'|h) \\\\\n",
    "&= p_T(x,y|h')p_L(h') = p_T(x,y,h'),\n",
    "\\end{aligned}\n",
    "$$\n",
    "\n",
    "where $p_a(h'|h) = p_L(h')$ captures the self-teaching idea that the learner's posterior on $h'$ does not depend on the underlying true $h$, and thus, turns the selection probability $p_T(x,h')$ independent of $h$;"
   ]
  },
  {
   "cell_type": "code",
   "execution_count": 6,
   "metadata": {
    "collapsed": true
   },
   "outputs": [],
   "source": [
    "# TODO: code to calculate"
   ]
  },
  {
   "cell_type": "markdown",
   "metadata": {},
   "source": [
    "$$p_T(x|h) = p_T(x) = \\sum_y \\sum_{h'} p_T(x,y,h').$$"
   ]
  },
  {
   "cell_type": "code",
   "execution_count": 7,
   "metadata": {
    "collapsed": true
   },
   "outputs": [],
   "source": [
    "# TODO: code to calculate"
   ]
  },
  {
   "cell_type": "markdown",
   "metadata": {},
   "source": [
    "One can check that cooperative inference in self-teaching converges after 1 step because $p_T(x|h) = p_T(x)$, which is independent of $h$, which means\n",
    "\n",
    "$$\n",
    "\\begin{aligned}\n",
    "p_L(h|x, y) &\\propto p(y|x, h)p_T(x|h)p(h) \\\\\n",
    "\\rightarrow p_L(h|x, y) &\\propto p(y|x, h)p_T(x)p(h) \\\\\n",
    "\\rightarrow p_L(h|x, y) &\\propto p(y|x, h)p(h).\n",
    "\\end{aligned}\n",
    "$$"
   ]
  },
  {
   "cell_type": "code",
   "execution_count": null,
   "metadata": {
    "collapsed": true
   },
   "outputs": [],
   "source": [
    "# TODO: code to check"
   ]
  },
  {
   "cell_type": "markdown",
   "metadata": {},
   "source": [
    "## Look ahead\n",
    "\n",
    "Up until here, the self-teacher has considered the effectiveness of selecting a particular feature according to its immediate benefit. A self-teacher can also look ahead into the future to see what the consequence of this first selection and modify the selection probabiity according to a particular feature's future benefit. This can be done by the following steps:\n",
    "\n",
    "First, compute the look-ahead posterior\n",
    "\n",
    "$$\n",
    "p_L(h|x^{(2)}, y^{(2)}, x, y) \\propto p(y^{(2)}|x^{(2)}, h)p_L(h|x,y),\n",
    "$$\n",
    "\n",
    "where $x^{(2)}, y^{(2)}$ respectively denote the selection and outcome one more step into the future;"
   ]
  },
  {
   "cell_type": "code",
   "execution_count": null,
   "metadata": {
    "collapsed": true
   },
   "outputs": [],
   "source": []
  },
  {
   "cell_type": "markdown",
   "metadata": {},
   "source": [
    "second, compute\n",
    "\n",
    "$$\n",
    "p_T(x^{(2)},y^{(2)}|h',x,y) \\propto p_L(h'|x^{(2)},y^{(2)},x,y)p_T(x^{(2)},y^{(2)}), \n",
    "$$\n",
    "\n",
    "where $p_T(x^{(2)},y^{(2)})$ is uniform over $x^{(2)},y^{(2)}$ as before;"
   ]
  },
  {
   "cell_type": "code",
   "execution_count": null,
   "metadata": {
    "collapsed": true
   },
   "outputs": [],
   "source": []
  },
  {
   "cell_type": "markdown",
   "metadata": {},
   "source": [
    "third, compute\n",
    "\n",
    "$$\n",
    "p_T(x^{(2)},y^{(2)},h'|x,y) = p_T(x^{(2)},y^{(2)}|h',x, y)p_L(h'|x, y);\n",
    "$$"
   ]
  },
  {
   "cell_type": "code",
   "execution_count": null,
   "metadata": {
    "collapsed": true
   },
   "outputs": [],
   "source": []
  },
  {
   "cell_type": "markdown",
   "metadata": {},
   "source": [
    "forth, compute the predictive distribution (not 100% sure if this is right)\n",
    "\n",
    "$$\n",
    "p_L(y|x) = \\sum_h p(y|h, x)p_L(h|x) = \\sum_h p(y|h, x)p_L(h);\n",
    "$$"
   ]
  },
  {
   "cell_type": "code",
   "execution_count": null,
   "metadata": {
    "collapsed": true
   },
   "outputs": [],
   "source": []
  },
  {
   "cell_type": "markdown",
   "metadata": {},
   "source": [
    "fifth, compute\n",
    "\n",
    "$$\n",
    "p_T(x^{(2)},y^{(2)},h',y|x) = p_T(x^{(2)},y^{(2)},h'|x, y)p_L(y|x);\n",
    "$$"
   ]
  },
  {
   "cell_type": "code",
   "execution_count": null,
   "metadata": {
    "collapsed": true
   },
   "outputs": [],
   "source": []
  },
  {
   "cell_type": "markdown",
   "metadata": {},
   "source": [
    "sixth, compute\n",
    "\n",
    "$$\n",
    "p_T(x^{(2)}|x) = \\sum_{y^{(2)}} \\sum_{h'} \\sum_y p_T(x^{(2)},y^{(2)},h',y|x);\n",
    "$$"
   ]
  },
  {
   "cell_type": "code",
   "execution_count": null,
   "metadata": {
    "collapsed": true
   },
   "outputs": [],
   "source": []
  },
  {
   "cell_type": "markdown",
   "metadata": {},
   "source": [
    "lastly, combine the benefit from $x^{(2)}$:\n",
    "\n",
    "$$\n",
    "p_T(x^{(2)}, x) = p_T(x^{(2)}|x) p_T(x) \\\\\n",
    "p^{(2)}_T(x) = \\sum_{x^{(2)}} p_T(x^{(2)},x).\n",
    "$$\n",
    "\n",
    "(Written out this way, it seems like look-ahead will never have any effect. So, I am probably doing something wrong.)"
   ]
  },
  {
   "cell_type": "code",
   "execution_count": null,
   "metadata": {
    "collapsed": true
   },
   "outputs": [],
   "source": []
  }
 ],
 "metadata": {
  "kernelspec": {
   "display_name": "Python [py35]",
   "language": "python",
   "name": "Python [py35]"
  },
  "language_info": {
   "codemirror_mode": {
    "name": "ipython",
    "version": 3
   },
   "file_extension": ".py",
   "mimetype": "text/x-python",
   "name": "python",
   "nbconvert_exporter": "python",
   "pygments_lexer": "ipython3",
   "version": "3.5.2"
  }
 },
 "nbformat": 4,
 "nbformat_minor": 2
}
