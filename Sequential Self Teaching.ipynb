{
 "cells": [
  {
   "cell_type": "markdown",
   "metadata": {},
   "source": [
    "# Sequential Self Teaching Worked Example"
   ]
  },
  {
   "cell_type": "markdown",
   "metadata": {},
   "source": [
    "## Set up\n",
    "\n",
    "Three features $(x1, x_2, x3)$ and two labels $(y_0, y_1)$\n",
    "\n",
    "The hypothesis space is given by:\n",
    "\n",
    "$$\n",
    "h_1 = [1, 1, 1] \\\\\n",
    "h_2 = [0, 1, 1] \\\\\n",
    "h_3 = [0, 0, 1] \\\\\n",
    "h_4 = [0, 0, 0]\n",
    "$$\n",
    "\n",
    "The learner's prior over hypotheses is uniform, $p_L(h') = 1/4 \\quad \\forall h' \\in h$"
   ]
  },
  {
   "cell_type": "code",
   "execution_count": null,
   "metadata": {},
   "outputs": [],
   "source": [
    "# TODO: code to initialize hypothesis space and priors"
   ]
  },
  {
   "cell_type": "markdown",
   "metadata": {},
   "source": [
    "The likelihood $p(y|x, h)$"
   ]
  },
  {
   "cell_type": "code",
   "execution_count": 1,
   "metadata": {},
   "outputs": [],
   "source": [
    "# TODO: code to calculate likelihood"
   ]
  },
  {
   "cell_type": "markdown",
   "metadata": {},
   "source": [
    "Thus, the learner's posterior $p_L(h|x, y) \\propto p(y|x, h)p_T(x|h)p(h)$ is..."
   ]
  },
  {
   "cell_type": "code",
   "execution_count": null,
   "metadata": {},
   "outputs": [],
   "source": []
  },
  {
   "cell_type": "markdown",
   "metadata": {},
   "source": [
    "Using the learner's posterior, we can calculate the probability that the self-teacher will teach each feature, i.e. $p_T(x|h)$, by the following equations: TODO"
   ]
  },
  {
   "cell_type": "code",
   "execution_count": null,
   "metadata": {},
   "outputs": [],
   "source": []
  }
 ],
 "metadata": {
  "kernelspec": {
   "display_name": "Python [conda env:py36]",
   "language": "python",
   "name": "conda-env-py36-py"
  },
  "language_info": {
   "codemirror_mode": {
    "name": "ipython",
    "version": 3
   },
   "file_extension": ".py",
   "mimetype": "text/x-python",
   "name": "python",
   "nbconvert_exporter": "python",
   "pygments_lexer": "ipython3",
   "version": "3.6.0"
  }
 },
 "nbformat": 4,
 "nbformat_minor": 2
}
