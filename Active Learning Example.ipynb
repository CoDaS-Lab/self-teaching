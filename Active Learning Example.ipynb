{
 "cells": [
  {
   "cell_type": "markdown",
   "metadata": {},
   "source": [
    "# Sequential Active Learning Worked Example"
   ]
  },
  {
   "cell_type": "markdown",
   "metadata": {},
   "source": [
    "## Set up\n",
    "\n",
    "Three features $(x1, x_2, x3)$ and two labels $(y_0, y_1)$\n",
    "\n",
    "The hypothesis space is given by:\n",
    "\n",
    "$$\n",
    "h_1 = [1, 1, 1] \\\\\n",
    "h_2 = [0, 1, 1] \\\\\n",
    "h_3 = [0, 0, 1] \\\\\n",
    "h_4 = [0, 0, 0]\n",
    "$$\n",
    "\n",
    "The learner's prior over hypotheses is uniform, $p_L(h') = 1/4 \\quad \\forall h' \\in h$"
   ]
  },
  {
   "cell_type": "code",
   "execution_count": 62,
   "metadata": {},
   "outputs": [],
   "source": [
    "import numpy as np\n",
    "\n",
    "def create_boundary_hyp_space(n_features):\n",
    "    \"\"\"Creates a hypothesis space of concepts defined by a linear boundary\"\"\"\n",
    "    hyp_space = []\n",
    "    for i in range(n_features + 1):\n",
    "        hyp = [1 for _ in range(n_features)]\n",
    "        hyp[:i] = [0 for _ in range(i)]\n",
    "        hyp_space.append(hyp)\n",
    "    hyp_space = np.array(hyp_space)\n",
    "    return hyp_space\n",
    "\n",
    "# initialize model\n",
    "n_features = 3  # number of features\n",
    "features = np.arange(n_features)  # features\n",
    "n_labels = 2  # number of labels\n",
    "labels = np.arange(n_labels)  # labels\n",
    "hyp_space = create_boundary_hyp_space(n_features)\n",
    "n_hyp = len(hyp_space)  # number of hypotheses\n",
    "hyp_shape = (n_hyp, n_features, n_labels)  # shape of structures\n",
    "\n",
    "\n",
    "# set learner's prior p_L(h) to be uniform over hypotheses\n",
    "prior = 1 / n_hyp * np.ones(hyp_shape)\n",
    "\n",
    "assert np.allclose(np.sum(learner_prior, axis=0), 1.0)"
   ]
  },
  {
   "cell_type": "markdown",
   "metadata": {},
   "source": [
    "The likelihood $p(y|x, h)$"
   ]
  },
  {
   "cell_type": "code",
   "execution_count": 63,
   "metadata": {},
   "outputs": [],
   "source": [
    "lik = np.ones(hyp_shape)\n",
    "\n",
    "for i, hyp in enumerate(hyp_space):\n",
    "    for j, feature in enumerate(features):\n",
    "        for k, label in enumerate(labels):\n",
    "            if hyp[feature] == label:\n",
    "                lik[i, j, k] = 1\n",
    "            else:\n",
    "                lik[i, j, k] = 0\n",
    "                \n",
    "assert lik.shape == hyp_shape"
   ]
  },
  {
   "cell_type": "markdown",
   "metadata": {},
   "source": [
    "The posterior $p(h|x, y) \\propto p(x, y|h)p(h)$"
   ]
  },
  {
   "cell_type": "code",
   "execution_count": 64,
   "metadata": {},
   "outputs": [],
   "source": [
    "posterior = lik * prior\n",
    "posterior = posterior / np.sum(posterior, axis=0)\n",
    "\n",
    "assert np.allclose(np.sum(posterior, axis=0), 1.0)"
   ]
  },
  {
   "cell_type": "markdown",
   "metadata": {},
   "source": [
    "The entropy of a random variable is given by: $H(X) = -\\sum_x p(x) \\log_2(p(x))$\n",
    "We calculate the entropy of the prior and posterior using $H(p(h))$ and $H(p(h|x, y))$ respectively"
   ]
  },
  {
   "cell_type": "code",
   "execution_count": 65,
   "metadata": {},
   "outputs": [
    {
     "name": "stderr",
     "output_type": "stream",
     "text": [
      "//anaconda/envs/py36/lib/python3.6/site-packages/ipykernel/__main__.py:3: RuntimeWarning: divide by zero encountered in log2\n",
      "  app.launch_new_instance()\n",
      "//anaconda/envs/py36/lib/python3.6/site-packages/ipykernel/__main__.py:3: RuntimeWarning: invalid value encountered in multiply\n",
      "  app.launch_new_instance()\n"
     ]
    }
   ],
   "source": [
    "def entropy(X):\n",
    "    assert np.isclose(np.sum(X), 1.0)  # check for valid probability distribution\n",
    "    return -1 * np.nansum(X * np.log2(X))\n",
    "\n",
    "prior_entropy = np.empty((n_features, n_labels))\n",
    "posterior_entropy = np.empty((n_features, n_labels))\n",
    "\n",
    "for i, feature in enumerate(features):\n",
    "    for j, label in enumerate(labels):\n",
    "        prior_entropy[feature, label] = entropy(prior[:, i, j])\n",
    "        posterior_entropy[feature, label] = entropy(posterior[:, i, j])"
   ]
  },
  {
   "cell_type": "markdown",
   "metadata": {},
   "source": [
    "Next, we calculate the amount of information gained by calculating $IG(x, y) = H(p(h)) - H(p(h|x, y))$"
   ]
  },
  {
   "cell_type": "code",
   "execution_count": 66,
   "metadata": {},
   "outputs": [
    {
     "name": "stdout",
     "output_type": "stream",
     "text": [
      "[[ 0.4150375  2.       ]\n",
      " [ 1.         1.       ]\n",
      " [ 2.         0.4150375]]\n"
     ]
    }
   ],
   "source": [
    "information_gain = prior_entropy - posterior_entropy\n",
    "print(information_gain)"
   ]
  },
  {
   "cell_type": "markdown",
   "metadata": {},
   "source": [
    "Finally, we calculate the expected information gain by averaging across all possible label observations $EIG(x) = H(p(h)) - \\sum_y p(y|x) H(p(h|x, y))$"
   ]
  },
  {
   "cell_type": "code",
   "execution_count": 70,
   "metadata": {},
   "outputs": [],
   "source": [
    "label_predictive = np.sum(lik * prior, axis=0) \n",
    "foo = prior_entropy[:,] - np.sum(label_predictive * posterior_entropy, axis=1)"
   ]
  },
  {
   "cell_type": "code",
   "execution_count": 71,
   "metadata": {},
   "outputs": [
    {
     "data": {
      "text/plain": [
       "array([ 0.30934632,  0.38130736,  0.30934632])"
      ]
     },
     "execution_count": 71,
     "metadata": {},
     "output_type": "execute_result"
    }
   ],
   "source": [
    "foo / np.sum(foo)"
   ]
  },
  {
   "cell_type": "code",
   "execution_count": null,
   "metadata": {},
   "outputs": [],
   "source": []
  }
 ],
 "metadata": {
  "kernelspec": {
   "display_name": "Python [conda env:py36]",
   "language": "python",
   "name": "conda-env-py36-py"
  },
  "language_info": {
   "codemirror_mode": {
    "name": "ipython",
    "version": 3
   },
   "file_extension": ".py",
   "mimetype": "text/x-python",
   "name": "python",
   "nbconvert_exporter": "python",
   "pygments_lexer": "ipython3",
   "version": "3.6.0"
  }
 },
 "nbformat": 4,
 "nbformat_minor": 2
}
