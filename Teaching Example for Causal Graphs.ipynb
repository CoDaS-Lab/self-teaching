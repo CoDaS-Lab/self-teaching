{
 "cells": [
  {
   "cell_type": "markdown",
   "metadata": {},
   "source": [
    "# Teaching for Causal Graphs Worked Example"
   ]
  },
  {
   "cell_type": "markdown",
   "metadata": {},
   "source": [
    "First, we implement a class for Directed graphs with all of the operations"
   ]
  },
  {
   "cell_type": "code",
   "execution_count": 2,
   "metadata": {},
   "outputs": [],
   "source": [
    "import numpy as np\n",
    "from collections import deque\n",
    "\n",
    "class DirectedGraph(object):\n",
    "    def __init__(self, edges, transmission_rate=1.0):\n",
    "        self.adjacency_matrix = edges\n",
    "        self.n = self.adjacency_matrix.shape[0]\n",
    "        self.transmission_rate = transmission_rate\n",
    "        \n",
    "        # TODO: add check to see if graph is not cyclic\n",
    "        assert self.n >= 0\n",
    "        assert self.transmission_rate >= 0.0\n",
    "        \n",
    "    def get_parents(self, node):\n",
    "        \"\"\"Calculate the parents of a given node\"\"\"\n",
    "        return np.flatnonzero(self.adjacency_matrix[:, node])\n",
    "        \n",
    "    def get_children(self, node):\n",
    "        \"\"\"Calculate the children of a given node\"\"\"\n",
    "        return np.flatnonzero(self.adjacency_matrix[node])\n",
    "        \n",
    "    def intervene(self, node):\n",
    "        \"\"\"Calculate the outcome from intervening on a particular node\"\"\"\n",
    "        \n",
    "        outcomes = np.zeros(self.n)\n",
    "        outcomes[node] = 1.0\n",
    "        \n",
    "        q = deque()  # create queue\n",
    "        q.append(node)  # append node to queue\n",
    "        \n",
    "        while len(q) is not 0:\n",
    "            curr_node = q.popleft()  # remove first node from queue\n",
    "            children = self.get_children(curr_node)\n",
    "            for child in children:\n",
    "                q.append(child)  # append child to queue\n",
    "                # calculate outcome\n",
    "                outcomes[child] = outcomes[curr_node] * self.transmission_rate\n",
    "                \n",
    "        return outcomes\n",
    "        \n",
    "    def likelihood(self):\n",
    "        \"\"\"Calculate the likelihood of a node being turned on?\"\"\"\n",
    "        lik = np.zeros((self.n, self.n))\n",
    "        for i in range(self.n):\n",
    "            lik[i] = self.intervene(i)\n",
    "            \n",
    "        return lik"
   ]
  },
  {
   "cell_type": "markdown",
   "metadata": {},
   "source": [
    "Next, we specify the hypothesis space and priors"
   ]
  },
  {
   "cell_type": "code",
   "execution_count": 45,
   "metadata": {},
   "outputs": [],
   "source": [
    "# experiment parameters\n",
    "transmission_rate = 0.9\n",
    "base_rate = 0.05\n",
    "\n",
    "# hypothesis space\n",
    "n_hyp = 12\n",
    "n_actions = 3\n",
    "n_outcomes = 3\n",
    "hyp_space = np.zeros((n_hyp, n_nodes, n_nodes))\n",
    "actions = np.array([[0, 0], [0, 1], [0, 2], \n",
    "                    [1, 0], [1, 1], [1, 2], \n",
    "                    [2, 0], [2, 1], [2, 2]])\n",
    "\n",
    "# three common cause hypotheses\n",
    "hyp_space[0] = np.array([[0, 1, 1], [0, 0, 0], [0, 0, 0]])\n",
    "hyp_space[1] = np.array([[0, 0, 0], [1, 0, 1], [0, 0, 0]])\n",
    "hyp_space[2] = np.array([[0, 0, 0], [0, 0, 0], [1, 1, 0]])\n",
    "\n",
    "# three common effect hypotheses\n",
    "hyp_space[3] = np.array([[0, 0, 1], [0, 0, 1], [0, 0, 0]])\n",
    "hyp_space[4] = np.array([[0, 1, 0], [0, 0, 0], [0, 1, 0]])\n",
    "hyp_space[5] = np.array([[0, 0, 0], [1, 0, 0], [1, 0, 0]])\n",
    "\n",
    "# six causal chain hypotheses\n",
    "hyp_space[6] = np.array([[0, 1, 0], [0, 0, 1], [0, 0, 0]])\n",
    "hyp_space[7] = np.array([[0, 0, 1], [0, 0, 0], [0, 1, 0]])\n",
    "hyp_space[8] = np.array([[0, 0, 1], [1, 0, 0], [0, 0, 0]])\n",
    "hyp_space[9] = np.array([[0, 0, 0], [0, 0, 1], [1, 0, 0]])\n",
    "hyp_space[10] = np.array([[0, 1, 0], [0, 0, 0], [1, 0, 0]])\n",
    "hyp_space[11] = np.array([[0, 0, 0], [1, 0, 0], [0, 1, 0]])\n",
    "\n",
    "learner_prior = 1 / n_hyp * np.ones((n_hyp, n_actions, n_outcomes))"
   ]
  },
  {
   "cell_type": "code",
   "execution_count": null,
   "metadata": {},
   "outputs": [],
   "source": [
    "# likelihood\n",
    "for hyp"
   ]
  },
  {
   "cell_type": "code",
   "execution_count": 22,
   "metadata": {},
   "outputs": [
    {
     "data": {
      "text/plain": [
       "(array([0, 1]), array([2, 2]))"
      ]
     },
     "execution_count": 22,
     "metadata": {},
     "output_type": "execute_result"
    }
   ],
   "source": []
  },
  {
   "cell_type": "code",
   "execution_count": null,
   "metadata": {},
   "outputs": [],
   "source": []
  }
 ],
 "metadata": {
  "kernelspec": {
   "display_name": "Python [conda env:py36]",
   "language": "python",
   "name": "conda-env-py36-py"
  },
  "language_info": {
   "codemirror_mode": {
    "name": "ipython",
    "version": 3
   },
   "file_extension": ".py",
   "mimetype": "text/x-python",
   "name": "python",
   "nbconvert_exporter": "python",
   "pygments_lexer": "ipython3",
   "version": "3.6.0"
  }
 },
 "nbformat": 4,
 "nbformat_minor": 2
}
